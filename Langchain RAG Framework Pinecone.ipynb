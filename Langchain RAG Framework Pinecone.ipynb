{
 "cells": [
  {
   "cell_type": "code",
   "execution_count": 10,
   "id": "61cc79e3",
   "metadata": {},
   "outputs": [],
   "source": [
    "from langchain.text_splitter import RecursiveCharacterTextSplitter\n",
    "import google.generativeai as genai\n",
    "from langchain_pinecone import PineconeVectorStore\n",
    "from langchain_google_genai import GoogleGenerativeAIEmbeddings\n",
    "import os\n",
    "from pinecone import Pinecone\n",
    "from config import source_file_path\n",
    "from config import gemini_api_key\n",
    "from config import embeddings_model\n",
    "from config import llm_model\n",
    "from config import pc_api\n",
    "from config import index_name"
   ]
  },
  {
   "cell_type": "code",
   "execution_count": 2,
   "id": "1ae2883b",
   "metadata": {},
   "outputs": [],
   "source": [
    "page_content=f\"Hello, my internet has been extremely slow for the past few days. I’m paying for high-speed service, but I can barely load a webpage! I’m sorry to hear that, sir. I understand how frustrating slow internet can be. Could you please provide your account number so I can check your connection? Sure, it’s 123456. Thank you. I see that there is an issue with the network in your area. Our technical team is already working on it, and the service should be restored within 24 hours. 24 hours? That’s unacceptable! I work from home and need the internet. I completely understand your concern. While the issue is being fixed, I can offer you 10GB of mobile data for free so you can continue working. Would that help? That would be helpful, yes. Great, I’ll activate it right away. You’ll receive a confirmation message shortly. I sincerely apologize for the inconvenience.\""
   ]
  },
  {
   "cell_type": "code",
   "execution_count": 3,
   "id": "c164f74c",
   "metadata": {},
   "outputs": [],
   "source": [
    "from langchain.schema import Document\n",
    "\n",
    "doc = [Document(\n",
    "    page_content=page_content,\n",
    "    metadata={\"source\": source_file_path, \"page\": 1}\n",
    ")]"
   ]
  },
  {
   "cell_type": "code",
   "execution_count": 4,
   "id": "c7594a18",
   "metadata": {},
   "outputs": [],
   "source": [
    "text_splitter = RecursiveCharacterTextSplitter(chunk_size=600, chunk_overlap=50)"
   ]
  },
  {
   "cell_type": "code",
   "execution_count": 5,
   "id": "365378ae",
   "metadata": {},
   "outputs": [],
   "source": [
    "documents = text_splitter.split_documents(doc)"
   ]
  },
  {
   "cell_type": "code",
   "execution_count": 6,
   "id": "a35f507f",
   "metadata": {},
   "outputs": [],
   "source": [
    "genai.configure(api_key=gemini_api_key)"
   ]
  },
  {
   "cell_type": "code",
   "execution_count": 7,
   "id": "ca1bb58e",
   "metadata": {},
   "outputs": [],
   "source": [
    "embeddings=GoogleGenerativeAIEmbeddings(model=embeddings_model,google_api_key=gemini_api_key)"
   ]
  },
  {
   "cell_type": "code",
   "execution_count": 8,
   "id": "2486701a",
   "metadata": {},
   "outputs": [],
   "source": [
    "os.environ[\"PINECONE_API_KEY\"] = pc_api"
   ]
  },
  {
   "cell_type": "code",
   "execution_count": 9,
   "id": "b8430ab6",
   "metadata": {},
   "outputs": [
    {
     "data": {
      "text/plain": [
       "<langchain_pinecone.vectorstores.PineconeVectorStore at 0x1b74c7a9bd0>"
      ]
     },
     "execution_count": 9,
     "metadata": {},
     "output_type": "execute_result"
    }
   ],
   "source": [
    "PineconeVectorStore.from_documents(documents, embeddings, index_name=index_name)"
   ]
  },
  {
   "cell_type": "code",
   "execution_count": 14,
   "id": "8b22055b",
   "metadata": {},
   "outputs": [],
   "source": [
    "pc = Pinecone(api_key=pc_api)\n",
    "index = pc.Index(index_name)"
   ]
  },
  {
   "cell_type": "code",
   "execution_count": 21,
   "id": "6969ea51",
   "metadata": {},
   "outputs": [],
   "source": [
    "model_llm=genai.GenerativeModel(llm_model)\n",
    "\n",
    "generation_config=genai.GenerationConfig(\n",
    "    max_output_tokens=1000,\n",
    "    temperature=0.1\n",
    ")"
   ]
  },
  {
   "cell_type": "code",
   "execution_count": 27,
   "id": "0070f98d",
   "metadata": {},
   "outputs": [],
   "source": [
    "def generate_ans(Question):\n",
    "    Q_embedding=genai.embed_content(\n",
    "        model=embeddings_model,\n",
    "        content=Question)\n",
    "    \n",
    "    xc = index.query(vector=Q_embedding['embedding'], top_k=1, include_metadata=True)\n",
    "    \n",
    "    context=xc.matches[0]['metadata']['text']\n",
    "    print(\"Context:\\n\",context)\n",
    "    \n",
    "    message=f\"\"\"\n",
    "    Your task is to provide answer of the question from the context provided.\n",
    "    Question:\n",
    "    {Question}\n",
    "    Context:\n",
    "    {context}\n",
    "    \"\"\"\n",
    "    \n",
    "    response=model_llm.generate_content(message,generation_config=generation_config)\n",
    "    answer=response.text\n",
    "    print(\"Answer:\\n\",answer)\n",
    "    return answer"
   ]
  },
  {
   "cell_type": "code",
   "execution_count": 28,
   "id": "40e34767",
   "metadata": {},
   "outputs": [
    {
     "name": "stdout",
     "output_type": "stream",
     "text": [
      "Context:\n",
      " Hello, my internet has been extremely slow for the past few days. I’m paying for high-speed service, but I can barely load a webpage! I’m sorry to hear that, sir. I understand how frustrating slow internet can be. Could you please provide your account number so I can check your connection? Sure, it’s 123456. Thank you. I see that there is an issue with the network in your area. Our technical team is already working on it, and the service should be restored within 24 hours. 24 hours? That’s unacceptable! I work from home and need the internet. I completely understand your concern. While the\n",
      "Answer:\n",
      " The customer's complaint is that their internet has been extremely slow for the past few days, despite paying for high-speed service.  They can barely load a webpage and this is impacting their ability to work from home.\n",
      "\n"
     ]
    },
    {
     "data": {
      "text/plain": [
       "\"The customer's complaint is that their internet has been extremely slow for the past few days, despite paying for high-speed service.  They can barely load a webpage and this is impacting their ability to work from home.\\n\""
      ]
     },
     "execution_count": 28,
     "metadata": {},
     "output_type": "execute_result"
    }
   ],
   "source": [
    "Question=f\"What is customer's complaint?\"\n",
    "generate_ans(Question)"
   ]
  },
  {
   "cell_type": "code",
   "execution_count": 29,
   "id": "1a5b19bb",
   "metadata": {},
   "outputs": [
    {
     "name": "stdout",
     "output_type": "stream",
     "text": [
      "Context:\n",
      " Hello, my internet has been extremely slow for the past few days. I’m paying for high-speed service, but I can barely load a webpage! I’m sorry to hear that, sir. I understand how frustrating slow internet can be. Could you please provide your account number so I can check your connection? Sure, it’s 123456. Thank you. I see that there is an issue with the network in your area. Our technical team is already working on it, and the service should be restored within 24 hours. 24 hours? That’s unacceptable! I work from home and need the internet. I completely understand your concern. While the\n",
      "Answer:\n",
      " The customer is fed up because their internet has been extremely slow for several days, despite paying for high-speed service.  This is impacting their ability to work from home.\n",
      "\n"
     ]
    },
    {
     "data": {
      "text/plain": [
       "'The customer is fed up because their internet has been extremely slow for several days, despite paying for high-speed service.  This is impacting their ability to work from home.\\n'"
      ]
     },
     "execution_count": 29,
     "metadata": {},
     "output_type": "execute_result"
    }
   ],
   "source": [
    "Question=f\"Why the customer is fed up?\"\n",
    "generate_ans(Question)"
   ]
  },
  {
   "cell_type": "code",
   "execution_count": 30,
   "id": "78512527",
   "metadata": {},
   "outputs": [
    {
     "name": "stdout",
     "output_type": "stream",
     "text": [
      "Context:\n",
      " Hello, my internet has been extremely slow for the past few days. I’m paying for high-speed service, but I can barely load a webpage! I’m sorry to hear that, sir. I understand how frustrating slow internet can be. Could you please provide your account number so I can check your connection? Sure, it’s 123456. Thank you. I see that there is an issue with the network in your area. Our technical team is already working on it, and the service should be restored within 24 hours. 24 hours? That’s unacceptable! I work from home and need the internet. I completely understand your concern. While the\n",
      "Answer:\n",
      " The customer is frustrated because their internet has been extremely slow for several days, despite paying for high-speed service.  This is impacting their ability to work from home.  The 24-hour estimated repair time is also unacceptable to them.\n",
      "\n"
     ]
    },
    {
     "data": {
      "text/plain": [
       "'The customer is frustrated because their internet has been extremely slow for several days, despite paying for high-speed service.  This is impacting their ability to work from home.  The 24-hour estimated repair time is also unacceptable to them.\\n'"
      ]
     },
     "execution_count": 30,
     "metadata": {},
     "output_type": "execute_result"
    }
   ],
   "source": [
    "Question=f\"Why the customer is frustrated?\"\n",
    "generate_ans(Question)"
   ]
  }
 ],
 "metadata": {
  "kernelspec": {
   "display_name": "Python 3 (ipykernel)",
   "language": "python",
   "name": "python3"
  },
  "language_info": {
   "codemirror_mode": {
    "name": "ipython",
    "version": 3
   },
   "file_extension": ".py",
   "mimetype": "text/x-python",
   "name": "python",
   "nbconvert_exporter": "python",
   "pygments_lexer": "ipython3",
   "version": "3.11.5"
  }
 },
 "nbformat": 4,
 "nbformat_minor": 5
}
