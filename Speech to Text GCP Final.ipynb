{
 "cells": [
  {
   "cell_type": "code",
   "execution_count": 2,
   "id": "2d3939b9",
   "metadata": {},
   "outputs": [],
   "source": [
    "import io\n",
    "from google.oauth2 import service_account\n",
    "from google.cloud import speech"
   ]
  },
  {
   "cell_type": "code",
   "execution_count": 2,
   "id": "618136a9",
   "metadata": {},
   "outputs": [],
   "source": [
    "from config import client_file_path\n",
    "from config import audio_file_path"
   ]
  },
  {
   "cell_type": "code",
   "execution_count": 6,
   "id": "f04b5f4c",
   "metadata": {},
   "outputs": [],
   "source": [
    "credentials=service_account.Credentials.from_service_account_file(client_file_path)\n",
    "client=speech.SpeechClient(credentials=credentials)"
   ]
  },
  {
   "cell_type": "code",
   "execution_count": 19,
   "id": "d6a8ae36",
   "metadata": {},
   "outputs": [],
   "source": [
    "config=speech.RecognitionConfig(\n",
    "    encoding=speech.RecognitionConfig.AudioEncoding.LINEAR16,\n",
    "    sample_rate_hertz=44100,\n",
    "    language_code='en-US'\n",
    ")"
   ]
  },
  {
   "cell_type": "code",
   "execution_count": 23,
   "id": "143172dc",
   "metadata": {},
   "outputs": [],
   "source": [
    "with io.open(audio_file_path,'rb') as f:\n",
    "        content=f.read()\n",
    "        audio=speech.RecognitionAudio(content=content)"
   ]
  },
  {
   "cell_type": "code",
   "execution_count": 24,
   "id": "4020310e",
   "metadata": {},
   "outputs": [],
   "source": [
    "response=client.recognize(config=config,audio=audio)"
   ]
  },
  {
   "cell_type": "code",
   "execution_count": 26,
   "id": "159acce4",
   "metadata": {},
   "outputs": [
    {
     "name": "stdout",
     "output_type": "stream",
     "text": [
      "the stale smell of old beer lingers\n",
      " it takes heat to bring out the odor\n",
      " a cold dip restores health and zest a salt pickle tastes fine with ham tacos al pastor are my favorite a zestful food is the hot cross bun\n"
     ]
    }
   ],
   "source": [
    "for result in response.results:\n",
    "    print(result.alternatives[0].transcript)"
   ]
  }
 ],
 "metadata": {
  "kernelspec": {
   "display_name": "Python 3 (ipykernel)",
   "language": "python",
   "name": "python3"
  },
  "language_info": {
   "codemirror_mode": {
    "name": "ipython",
    "version": 3
   },
   "file_extension": ".py",
   "mimetype": "text/x-python",
   "name": "python",
   "nbconvert_exporter": "python",
   "pygments_lexer": "ipython3",
   "version": "3.11.5"
  }
 },
 "nbformat": 4,
 "nbformat_minor": 5
}
